{
  "cells": [
    {
      "cell_type": "markdown",
      "id": "ffea2941-65f2-4c47-9588-fae2c256b8a8",
      "metadata": {
        "id": "ffea2941-65f2-4c47-9588-fae2c256b8a8"
      },
      "source": [
        "# Repaso de funciones en Python."
      ]
    },
    {
      "cell_type": "markdown",
      "id": "ed643d6f-496f-4c13-a848-df61367d87d7",
      "metadata": {
        "id": "ed643d6f-496f-4c13-a848-df61367d87d7"
      },
      "source": [
        "**Introducción:**\n",
        "\n",
        "En Python _cualquier_ función que definamos se comporta como cualquier otro objeto de Python. Por tanto:\n",
        "* Podemos usar las funciones de biblioteca type()  e id() para obtener el tipo e identificador del objeto.\n",
        "* Cuando definimos una función, enlazamos el nombre de la función con el objeto función. Podemos enlazar el objeto función con cualquier otra variable.\n",
        "* Debes entender las diferencias entre el Global Frame y el Local Frame (o área de datos de la función). Las variables que se hayan definido en el Local Frame de una función se pierden al salir de la función.\n",
        "* Debes entender que representan los argumentos de una función.\n",
        "    * Los parámetros de una función son variables que están definidas en su Local Frame. Cuando invocamos a una función, enlazamos sus parámetros con los correspondientes objetos que pasmos a la función.\n",
        "* Retorno (y asignación) del retorno de una función."
      ]
    },
    {
      "cell_type": "markdown",
      "id": "05818d89-c025-4a9b-8ac2-8cc80ded3dff",
      "metadata": {
        "id": "05818d89-c025-4a9b-8ac2-8cc80ded3dff"
      },
      "source": [
        "**Ejercicio 1**\n",
        "\n",
        "Explica detalladamente cada una de las sentencias del siguiente código. Debes discutir porqué son válidas, que hacen y porqué producen el resultado que producen. Tu explicación ha de ser precisa. Para ello debes utilizar los términos correctos (por tanto debes hacer uso de los conceptos de Global frame y Local frame, objetos, ... etc) y debe ser inteligible para un estudiante que haya cursado Programación I con aprovechamiento."
      ]
    },
    {
      "cell_type": "code",
      "execution_count": null,
      "id": "0c9fc9c3-e69e-4b03-8b74-576334ea0bf4",
      "metadata": {
        "id": "0c9fc9c3-e69e-4b03-8b74-576334ea0bf4"
      },
      "outputs": [],
      "source": [
        "#La primera línea define una función llamada mi_funcion que acepta un argumento, lista.\n",
        "# En el Global frame, se crea una referencia a mi_funcion que apunta al bloque de código de la función.\n",
        "def mi_funcion(lista):\n",
        "  #La expresión lista[:] crea una copia de la lista pasada como argumento.\n",
        "  #Esta operación es válida porque las listas en Python son objetos mutables, y la operación [:] devuelve una nueva lista\n",
        "  #copia ahora es un nuevo objeto lista en el Local frame de la función mi_funcion.\n",
        "    copia = lista[:]\n",
        "    #Esta línea modifica el primer elemento de la lista copia (índice 0), asignándole el valor 'hola'.\n",
        "    #Es válida porque copia es una lista (objeto mutable) y podemos cambiar el valor de sus elementos.\n",
        "    #Solo copia se ve afectada, ya que es un nuevo objeto lista en el Local frame.\n",
        "    copia[0] = 'hola'\n",
        "    #Esta línea modifica el tercer elemento de la lista copia (índice 2), que a su vez es otra lista. Se accede al tercer elemento de esta lista interna (índice 2) y se le asigna el valor 'hola'.\n",
        "    #Es válida porque copia[2] es una referencia a un sublista (objeto mutable), y podemos modificar sus elementos.\n",
        "    #Dado que copia es una copia superficial, la sublista interna (copia[2]) es la misma que la de la lista original (lista[2]). Por lo tanto, este cambio afecta tanto a la lista copia en el Local frame como a la lista original lista en el Global frame.\n",
        "    copia[2][2] = 'hola'\n",
        "    # Imprime el contenido actual de la lista copia.\n",
        "    print('Copia:', copia)\n",
        "    #Devuelve la lista copia al contexto que llamó a la función, lo cual puede ser útil para realizar más operaciones o asignar el resultado a otra variable.\n",
        "    return copia"
      ]
    },
    {
      "cell_type": "code",
      "execution_count": null,
      "id": "1a4cb759-da78-4feb-9fec-e5e3d0ea710b",
      "metadata": {
        "id": "1a4cb759-da78-4feb-9fec-e5e3d0ea710b",
        "outputId": "8c40bc2e-86e2-4e34-c605-252d89add90f"
      },
      "outputs": [
        {
          "name": "stdout",
          "output_type": "stream",
          "text": [
            "<class 'function'>\n",
            "129846528364672\n",
            "<class 'function'>\n",
            "129846528364672\n",
            "\n",
            "En el Global frame antes de la llamada l: ['A', 'B', [1, 2, 'A', 'B']]\n",
            "Copia: ['hola', 'B', [1, 2, 'hola', 'B']]\n",
            "En el Global Frame después de la llamada l: ['hola', 'B', [1, 2, 'hola', 'B']]\n",
            "\n",
            "En el Global frame antes de la llamada l: ['A', 'B', [1, 2, 'A', 'B']]\n",
            "Copia: ['hola', 'B', [1, 2, 'hola', 'B']]\n",
            "En el Global Frame después de la llamada l: ['A', 'B', [1, 2, 'hola', 'B']]\n"
          ]
        }
      ],
      "source": [
        "# programa principal\n",
        "\n",
        "#Estas líneas imprimen el tipo y el identificador único (ID) de la función mi_funcion.\n",
        "print(type(mi_funcion))\n",
        "print(id(mi_funcion))\n",
        "#Aquí se asigna la función mi_funcion a la variable fun\n",
        "fun = mi_funcion\n",
        "#fun se comportará exactamente igual que mi_funcion.\n",
        "#print(type(fun)) imprimirá <class 'function'> y print(id(fun)) mostrará el mismo ID que mi_funcion, confirmando que ambas son referencias al mismo objeto.\n",
        "print(type(fun))\n",
        "print(id(fun))\n",
        "print()\n",
        "#Línea 1: Define una lista l en el Global frame.\n",
        "#Línea 2: Imprime el estado de l antes de la llamada a la función.\n",
        "#Línea 3: Llama a la función fun (que es una referencia a mi_funcion) con la lista l. La lista es pasada por referencia, por lo que lista dentro de la función apunta al mismo objeto que l. La función devuelve una lista que se asigna nuevamente a l en el Global frame.\n",
        "#Línea 4: Imprime el estado de l después de la llamada a la función. La salida de este código mostrará cambios en l debido a la modificación de la sublista interna en la función.\n",
        "l = ['A', 'B', [1, 2, 'A', 'B']]\n",
        "print('En el Global frame antes de la llamada l:', l)\n",
        "l = fun(l)\n",
        "print('En el Global Frame después de la llamada l:',l)\n",
        "print()\n",
        "#Línea 1: Redefine la lista l en el Global frame.\n",
        "#Línea 2: Imprime el estado de l antes de la llamada a la función.\n",
        "#Línea 3: Llama a la función fun con la lista l, pero no asigna el valor retornado a l.\n",
        "#Línea 4: Imprime el estado de l después de la llamada a la función. Dado que la función modifica una sublista interna (compartida con l), los cambios en esa sublista se reflejan en l. Sin embargo, las otras modificaciones (copia[0] = 'hola') solo afectaron la lista copia en el Local frame, no la lista l en el Global frame.\n",
        "l = ['A', 'B', [1, 2, 'A', 'B']]\n",
        "print('En el Global frame antes de la llamada l:', l)\n",
        "fun(l)\n",
        "print('En el Global Frame después de la llamada l:',l)"
      ]
    },
    {
      "cell_type": "markdown",
      "id": "2ca9a57b-ca7b-444f-a750-b594a88db9ca",
      "metadata": {
        "id": "2ca9a57b-ca7b-444f-a750-b594a88db9ca"
      },
      "source": [
        "**Ejercicio 2:**\n",
        "\n",
        "La función menor_mayor() implementa un algoritmo que devuelva el menor y el mayor de los elementos de una lista. Para alcanzar su objetivo los algoritmo realizan una secuencia de pasos o acciones.\n",
        "\n",
        " * Explica paso a paso la lógica del algoritmo implementado en la función menor_mayor(). Es decir cada uno de las acciones que efectua el algoritmo para obtener el mínimo y el máximo de los elementos de una lista.\n",
        "* Explica que significa que en Python un objeto tiene la propiedad de ser __iterable__.\n",
        "* ¿Que significa _desempaquetar_ (**unpacking**) los elementos de una lista o de una tupla? ¿En que parte del programa principal estamos utilizando esta técnica?"
      ]
    },
    {
      "cell_type": "code",
      "execution_count": null,
      "id": "7b9ff945-144f-48df-b7c6-a7ec947a5dcb",
      "metadata": {
        "id": "7b9ff945-144f-48df-b7c6-a7ec947a5dcb"
      },
      "outputs": [],
      "source": [
        "def menor_mayor(lista):\n",
        "    ''' Devuelve el menor y mayor elemento de una lista\n",
        "    '''\n",
        "    #Aquí, la función toma el primer elemento de la lista (lista[0]) y lo asigna tanto a las variables menor como mayor.\n",
        "    #Esto establece un punto de partida para la comparación.\n",
        "    menor = mayor = lista[0]\n",
        "    #La función itera sobre cada elemento de la lista (item), comenzando desde el primer elemento.\n",
        "    #Un objeto iterable en Python es cualquier objeto que puede ser recorrido (iterado) utilizando un bucle for. Ejemplos de objetos iterables son listas, tuplas, cadenas, objetos devueltos por range()\n",
        "    for item in lista:\n",
        "      #Comparación para el menor: Si el elemento actual (item) es menor que el valor en menor, se actualiza menor para que contenga ese elemento.\n",
        "      #Comparación para el mayor: Si el elemento actual es mayor que el valor en mayor, se actualiza mayor para que contenga ese elemento.\n",
        "      #Estas comparaciones permiten recorrer la lista una sola vez\n",
        "        if item < menor:\n",
        "            menor = item\n",
        "        elif item > mayor:\n",
        "            mayor = item\n",
        "    #La función devuelve una tupla que contiene los valores menor y mayor.\n",
        "    return menor, mayor"
      ]
    },
    {
      "cell_type": "markdown",
      "source": [
        "Un objeto es iterable si puede ser recorrido secuencialmente, por ejemplo, con un bucle for. Los objetos como listas, tuplas, cadenas de caracteres y los objetos retornados por la función range() son iterables porque implementan un método especial (__iter__()) que permite obtener un iterador.\n"
      ],
      "metadata": {
        "id": "3ox41K7fsfKM"
      },
      "id": "3ox41K7fsfKM"
    },
    {
      "cell_type": "code",
      "execution_count": null,
      "id": "ab179a71-d77a-42df-8c12-9285d787e15f",
      "metadata": {
        "id": "ab179a71-d77a-42df-8c12-9285d787e15f",
        "outputId": "77126085-a8f2-45bc-caaa-080f7a8f1299"
      },
      "outputs": [
        {
          "name": "stdout",
          "output_type": "stream",
          "text": [
            "El menor elemento de [10, 20, 4, 3, 50] es  3\n",
            "El mayor elemento de [10, 20, 4, 3, 50] es  50\n"
          ]
        }
      ],
      "source": [
        "# Programa principal ejercicio 2\n",
        "\n",
        "l = [10, 20, 4, 3, 50]\n",
        "#Desempaquetamiento es el proceso de asignar los elementos de una lista o tupla a variables individuales.\n",
        "#La función menor_mayor() devuelve una tupla con dos elementos. Al utilizar menor, mayor = ..., estamos desempaquetando los valores de esta tupla y asignándolos respectivamente a las variables menor y mayor.\n",
        "menor, mayor = menor_mayor(l)\n",
        "print(f'El menor elemento de {l} es  {menor}')\n",
        "print(f'El mayor elemento de {l} es  {mayor}')"
      ]
    },
    {
      "cell_type": "markdown",
      "id": "be5f6b02-8c5e-4cca-a84b-272d90999bf0",
      "metadata": {
        "id": "be5f6b02-8c5e-4cca-a84b-272d90999bf0"
      },
      "source": [
        "Considera ahora el siguiente programa:"
      ]
    },
    {
      "cell_type": "code",
      "execution_count": null,
      "id": "9431f072-ffd3-4d32-b535-db50f26529c2",
      "metadata": {
        "id": "9431f072-ffd3-4d32-b535-db50f26529c2",
        "outputId": "a4b84520-4105-40ba-abc2-c6ba1f3a5a1d"
      },
      "outputs": [
        {
          "name": "stdout",
          "output_type": "stream",
          "text": [
            "El menor elemento de ['hola', 'don', 'pepito', 'Jose', 'anda', 'Zapato'] es  Jose\n",
            "El mayor elemento de ['hola', 'don', 'pepito', 'Jose', 'anda', 'Zapato'] es  pepito\n",
            "<class 'range'> False\n",
            "El menor elemento de range(0, 11) es  0\n",
            "El mayor elemento de range(0, 11) es  10\n",
            "El menor elemento de [0, 1, 2, 3, 4, 5, 6, 7, 8, 9, 10] es  0\n",
            "El mayor elemento de [0, 1, 2, 3, 4, 5, 6, 7, 8, 9, 10] es  10\n"
          ]
        }
      ],
      "source": [
        "####  Programa principal Ejercicio 2b\n",
        "\n",
        "# Lista de caracteres\n",
        "l = ['hola', 'don', 'pepito', 'Jose','anda', 'Zapato']\n",
        "menor, mayor = menor_mayor(l)\n",
        "print(f'El menor elemento de {l} es  {menor}')\n",
        "print(f'El mayor elemento de {l} es  {mayor}')\n",
        "\n",
        "# Secuencias, objeto devuelto por funcion range()\n",
        "n = 10\n",
        "seq = range(n+1)\n",
        "print(type(seq), isinstance(seq, list))\n",
        "menor, mayor = menor_mayor(seq)\n",
        "print(f'El menor elemento de {seq} es  {menor}')\n",
        "print(f'El mayor elemento de {seq} es  {mayor}')"
      ]
    },
    {
      "cell_type": "markdown",
      "id": "55dfc11c-fb2b-4572-bab7-5328e3565944",
      "metadata": {
        "id": "55dfc11c-fb2b-4572-bab7-5328e3565944"
      },
      "source": [
        " * **¿Que ocurre cuando los elementos de la lista que le pasásemos a la función menor_mayor() son cadenas de caracteres?¿Por qué? Explica tu respuesta de forma precisa.**\n",
        " Cuando los elementos son cadenas, Python las compara según el orden alfabético y considerando mayúsculas y minúsculas.\n",
        " * **¿Que tipo de objeto devuelve la función range() de Python?¿Devuelve una instancia de lista? Entonces, ¿Por qué no _casca_ nuestro programa- cuando le pasamos a la función un objeto de tipo _range_? ¿Como puedes obtener una lista a partir del objeto devuelto por range()?**\n",
        " La función range() devuelve un objeto de tipo range, que es iterable pero no es una lista. No devuelve una instancia de lista; sin embargo, se puede convertir a una lista utilizando list(range(n+1)).\n",
        "\n",
        " * **Supón que invocas a tu programa con una lista vacía ¿Que pasaría?¿Por qué?**\n",
        " Si la lista está vacía, la línea menor = mayor = lista[0] lanzaría un error IndexError porque no hay elementos en la lista para indexar.\n",
        "   **Modifica la función menor_mayor() para que no casque y produzca un _resultado aceptable_ cuando la lista que recibe como argumento esté vacía.**\n",
        "```python\n",
        "def menor_mayor(lista):\n",
        "    ''' Devuelve el menor y mayor elemento de una lista '''\n",
        "    if not lista:  # Verifica si la lista está vacía\n",
        "        return None, None\n",
        "    \n",
        "    menor = mayor = lista[0]\n",
        "    \n",
        "    for item in lista:\n",
        "        if item < menor:\n",
        "            menor = item\n",
        "        elif item > mayor:\n",
        "            mayor = item\n",
        "            \n",
        "    return menor, mayor\n",
        "\n",
        "    l = []\n",
        "    menor, mayor = menor_mayor(l)\n",
        "    print(f'El menor elemento de {l} es  {menor}')\n",
        "    print(f'El mayor elemento de {l} es  {mayor}')\n",
        "```\n",
        " * **Y si invocases a tu programa con una lista que contuviese algún elemento `None`¿Que pasaría? ¿Por qué?**\n",
        " Comparar elementos con None puede causar un error TypeError en Python, ya que None no se puede comparar directamente con números o cadenas. **¿Que puedes hacer para que tu programa no _casque_?**\n",
        "  ```python\n",
        "  def menor_mayor(lista):\n",
        "    ''' Devuelve el menor y mayor elemento de una lista '''\n",
        "    if not lista:  # Lista vacía\n",
        "        return None, None\n",
        "\n",
        "    # Filtrar elementos que no sean None\n",
        "    lista_filtrada = [item for item in lista if item is not None]\n",
        "\n",
        "    if not lista_filtrada:  # Si la lista filtrada está vacía\n",
        "        return None, None\n",
        "\n",
        "    menor = mayor = lista_filtrada[0]\n",
        "    \n",
        "    for item in lista_filtrada:\n",
        "        if item < menor:\n",
        "            menor = item\n",
        "        elif item > mayor:\n",
        "            mayor = item\n",
        "            \n",
        "    return menor, mayor\n",
        "    \n",
        "    # Lista vacía\n",
        "    l = [10, 4, None, 2]\n",
        "    menor, mayor = menor_mayor(l)\n",
        "    print(f'El menor elemento de {l} es  {menor}') # devuelva: None\n",
        "    print(f'El mayor elemento de {l} es  {mayor}') # Devuelva: None\n",
        "```"
      ]
    },
    {
      "cell_type": "markdown",
      "id": "7aa2e97b-2caa-4e3f-9ec6-b939e5c1ae4a",
      "metadata": {
        "id": "7aa2e97b-2caa-4e3f-9ec6-b939e5c1ae4a"
      },
      "source": [
        "**Ejercicio 3:**\n",
        "\n",
        "* Haz una función *filtra_pares()* que reciba como argumento una lista de objetos y devuelva otra lista solo con los enteros pares y en el mismo orden que en la lista original. La función get_pares() __no__ modifica la lista original. Tu programa debe ser capaz de funcionar con listas con objetos de diferentes tipos\n",
        "* (**OPTATIVO**) Repite la función *filtra_pares()* pero utilizando en este caso la técnica de __list comprenhesion__"
      ]
    },
    {
      "cell_type": "code",
      "execution_count": null,
      "id": "4460a1e2-d527-4b8c-9e51-8422e0cbeac8",
      "metadata": {
        "id": "4460a1e2-d527-4b8c-9e51-8422e0cbeac8"
      },
      "outputs": [],
      "source": [
        "def filtra_pares(l):\n",
        "    # Crea una nueva lista que contendrá solo los números pares\n",
        "    pares = [item for item in l if isinstance(item, int) and item % 2 == 0]\n",
        "    return pares\n",
        "\n",
        "### Programa principal\n",
        "l = [1, None, 2, 'Eduardo', 6]  # Debe devolver: [2, 6]\n",
        "resultado = filtra_pares(l)\n",
        "print(resultado)  # Imprime: [2, 6]\n"
      ]
    },
    {
      "cell_type": "markdown",
      "id": "4df2ae79-372d-4a55-a52e-1780941e088e",
      "metadata": {
        "id": "4df2ae79-372d-4a55-a52e-1780941e088e"
      },
      "source": [
        "**Ejercicio 4:**\n",
        "\n",
        "Explica detalladamente cada una de las sentencias del siguiente código, tanto de la función como del programa principal. Debes discutir porqué son válidas y porqué producen ese resultado. Tu explicación ha de ser precisa. Debes utilizar los términos correctos."
      ]
    },
    {
      "cell_type": "code",
      "execution_count": null,
      "id": "aab76c48-9426-4fcc-b215-2a763ad659da",
      "metadata": {
        "id": "aab76c48-9426-4fcc-b215-2a763ad659da"
      },
      "outputs": [],
      "source": [
        "#Se define una función llamada get_new que toma dos parámetros:\n",
        "#z: Un argumento que será pasado a la función fun.\n",
        "#fun: Una función que será aplicada a z.\n",
        "#Esta definición es válida porque en Python es posible pasar funciones como argumentos a otras funciones.\n",
        "def get_new(z, fun):\n",
        "  #La función fun se llama con z como argumento y se devuelve el resultado de esta llamada.\n",
        "    return fun(z)"
      ]
    },
    {
      "cell_type": "code",
      "execution_count": null,
      "id": "d5187b70-de41-4f47-961e-d0e585f3179b",
      "metadata": {
        "id": "d5187b70-de41-4f47-961e-d0e585f3179b",
        "outputId": "c2645e58-a84b-4d9e-a0e4-d8a850bf4f29"
      },
      "outputs": [
        {
          "name": "stdout",
          "output_type": "stream",
          "text": [
            "Nueva lista: [3, 4, 10, 20, 50]\n",
            "Nueva lista: None\n"
          ]
        }
      ],
      "source": [
        "# Programa principal ejercicio 4\n",
        "\n",
        "#Se define una lista l con los números [10, 20, 4, 3, 50].\n",
        "l = [10, 20, 4, 3, 50]\n",
        "#lamada a get_new():\n",
        "#Argumentos:\n",
        "#z es la lista l.\n",
        "#fun es la función sorted, que en Python se usa para ordenar listas.\n",
        "#La llamada a get_new(l, sorted) es equivalente a sorted(l). Esto significa que la función sorted se aplica a la lista l.\n",
        "new = get_new(l, sorted)\n",
        "#Imprime el resultado de la ordenación.\n",
        "print(f'Nueva lista: {new}')\n",
        "#Llamada a get_new():\n",
        "#Argumentos:\n",
        "#z es la lista l.\n",
        "#fun es la función filtra_pares, que se definió anteriormente (en el ejercicio anterior) para filtrar los números pares de una lista.\n",
        "#La llamada a get_new(l, filtra_pares) es equivalente a filtra_pares(l). Esto significa que la función filtra_pares se aplica a la lista l\n",
        "new = get_new(l, filtra_pares)\n",
        "#Imprime el resultado del filtrado.\n",
        "print(f'Nueva lista: {new}')"
      ]
    }
  ],
  "metadata": {
    "kernelspec": {
      "display_name": "Python 3 (ipykernel)",
      "language": "python",
      "name": "python3"
    },
    "language_info": {
      "codemirror_mode": {
        "name": "ipython",
        "version": 3
      },
      "file_extension": ".py",
      "mimetype": "text/x-python",
      "name": "python",
      "nbconvert_exporter": "python",
      "pygments_lexer": "ipython3",
      "version": "3.11.8"
    },
    "colab": {
      "provenance": []
    }
  },
  "nbformat": 4,
  "nbformat_minor": 5
}